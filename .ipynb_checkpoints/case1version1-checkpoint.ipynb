{
 "cells": [
  {
   "cell_type": "markdown",
   "metadata": {},
   "source": [
    "# Case Study 1 : Data Science in Twitter Data"
   ]
  },
  {
   "cell_type": "markdown",
   "metadata": {},
   "source": [
    "**Required Readings:** \n",
    "* Chapter 1 and Chapter 9 of the book [Mining the Social Web](http://cdn.oreillystatic.com/oreilly/booksamplers/9781449367619_sampler.pdf) \n",
    "* The codes for [Chapter 1](http://bit.ly/1qCtMrr) and [Chapter 9](http://bit.ly/1u7eP33)\n",
    "* [TED Talks](https://www.ted.com/talks) for examples of 10 minutes talks.\n",
    "\n",
    "\n",
    "** NOTE **\n",
    "* Please don't forget to save the notebook frequently when working in Jupyter Notebook, otherwise the changes you made can be lost.\n",
    "\n",
    "*----------------------"
   ]
  },
  {
   "cell_type": "markdown",
   "metadata": {},
   "source": [
    "# Problem: pick a data science problem that you plan to solve using Twitter Data\n",
    "* The problem should be important and interesting, which has a potential impact in some area.\n",
    "* The problem should be solvable using twitter data and data science solutions.\n",
    "\n",
    "Please briefly describe in the following cell: what problem are you trying to solve? why this problem is important and interesting?"
   ]
  },
  {
   "cell_type": "code",
   "execution_count": null,
   "metadata": {
    "collapsed": true
   },
   "outputs": [],
   "source": [
    "\n",
    "\n",
    "\n",
    "\n",
    "\n",
    "\n",
    "\n",
    "\n",
    "\n",
    "\n",
    "\n",
    "\n",
    "\n",
    "\n",
    "\n",
    "\n",
    "\n",
    "\n",
    "\n",
    "\n",
    "\n",
    "\n"
   ]
  },
  {
   "cell_type": "markdown",
   "metadata": {},
   "source": [
    "## Data Collection: Download Twitter Data using API"
   ]
  },
  {
   "cell_type": "markdown",
   "metadata": {},
   "source": [
    "* In order to solve the above problem, you need to collect some twitter data. You could select a topic that is relevant to your problem, and use Twitter API to download the relevant tweets. It is recommended that the number of tweets should be larger than 200, but smaller than 1 million.\n",
    "* Store the tweets you downloaded into a local file (txt file or json file) "
   ]
  },
  {
   "cell_type": "code",
   "execution_count": 13,
   "metadata": {
    "collapsed": false
   },
   "outputs": [
    {
     "name": "stdout",
     "output_type": "stream",
     "text": [
      "Length of statuses 100\n",
      "Length of statuses 200\n",
      "Length of statuses 300\n",
      "Length of statuses 400\n",
      "Length of statuses 500\n"
     ]
    }
   ],
   "source": [
    "import twitter\n",
    "#---------------------------------------------\n",
    "# Define a Function to Login Twitter API\n",
    "def oauth_login():\n",
    "    # Go to http://twitter.com/apps/new to create an app and get values\n",
    "    # for these credentials that you'll need to provide in place of these\n",
    "    # empty string values that are defined as placeholders.\n",
    "    # See https://dev.twitter.com/docs/auth/oauth for more information \n",
    "    # on Twitter's OAuth implementation.\n",
    "    \n",
    "    CONSUMER_KEY = 'KjPMcDTD68zt493TRPBgNF7NQ'\n",
    "    CONSUMER_SECRET ='Kw1JUmkW0yxq9RWWC4DDJV1oD7waHpyTn5sJNJBaGPQRciicsb'\n",
    "    OAUTH_TOKEN = '824393428205268993-69056qSl9sj8rUoypHKoq06X9ubkKQs'\n",
    "    OAUTH_TOKEN_SECRET = 'RdWbvZqgrYvKo23OmZKVAcRNYXmxvCMcY4n5JHgwhxCRo'\n",
    "    \n",
    "    auth = twitter.oauth.OAuth(OAUTH_TOKEN, OAUTH_TOKEN_SECRET,\n",
    "                               CONSUMER_KEY, CONSUMER_SECRET)\n",
    "    \n",
    "    twitter_api = twitter.Twitter(auth=auth)\n",
    "    return twitter_api\n",
    "\n",
    "#----------------------------------------------\n",
    "# Your code starts here\n",
    "#   Please add comments or text cells in between to explain the general idea of each block of the code.\n",
    "#   Please feel free to add more cells below this cell if necessary\n",
    "import json\n",
    "import pandas as pd\n",
    "from urllib import unquote\n",
    "\n",
    "twitter_api = oauth_login()\n",
    "WORLD_WOE_ID = 1\n",
    "US_WOE_ID = 23424977\n",
    "\n",
    "# Prefix ID with the underscore for query string parameterization.\n",
    "# Without the underscore, the twitter package appends the ID value\n",
    "# to the URL itself as a special case keyword argument.\n",
    "\n",
    "world_trends = twitter_api.trends.place(_id=WORLD_WOE_ID)\n",
    "us_trends = twitter_api.trends.place(_id=US_WOE_ID)\n",
    "\n",
    "#print json.dumps(world_trends,indent=1)\n",
    "#print\n",
    "#print json.dumps(us_trends,indent=1)\n",
    "\n",
    "q = '#StopPresidentBannon' \n",
    "count = 100\n",
    "\n",
    "search_results = twitter_api.search.tweets(q=q, count=count)\n",
    "statuses = search_results['statuses']\n",
    "\n",
    "# Iterate through 5 more batches of results by following the cursor\n",
    "\n",
    "for _ in range(5):\n",
    "    print \"Length of statuses\", len(statuses)\n",
    "    try:\n",
    "        next_results = search_results['search_metadata']['next_results']\n",
    "    except KeyError, e: # No more results when next_results doesn't exist\n",
    "        break\n",
    "        \n",
    "    # Create a dictionary from next_results, which has the following form:\n",
    "    # ?max_id=313519052523986943&q=NCAA&include_entities=1\n",
    "    kwargs = dict([ kv.split('=') for kv in unquote(next_results[1:]).split(\"&\") ])\n",
    "    \n",
    "    search_results = twitter_api.search.tweets(**kwargs)\n",
    "    statuses += search_results['statuses']\n",
    "\n",
    "# Show one sample search result by slicing the list...\n",
    "#print json.dumps(statuses[0], indent=1)\n",
    "\n",
    "with open('results.json', 'w') as outfile:\n",
    "    json.dump(statuses, outfile)\n"
   ]
  },
  {
   "cell_type": "markdown",
   "metadata": {},
   "source": [
    "### Report  statistics about the tweets you collected "
   ]
  },
  {
   "cell_type": "code",
   "execution_count": null,
   "metadata": {
    "collapsed": true
   },
   "outputs": [],
   "source": [
    "# The total number of tweets collected:  < INSERT THE NUMBER HERE>\n",
    "\n",
    "\n"
   ]
  },
  {
   "cell_type": "markdown",
   "metadata": {},
   "source": [
    "# Data Exploration: Exploring the Tweets and Tweet Entities\n",
    "\n",
    "**(1) Word Count:** \n",
    "* Load the tweets you collected in the local file (txt or json)\n",
    "* compute the frequencies of the words being used in these tweets. \n",
    "* Plot a table of the top 30 most-frequent words with their counts"
   ]
  },
  {
   "cell_type": "code",
   "execution_count": 14,
   "metadata": {
    "collapsed": false
   },
   "outputs": [
    {
     "name": "stdout",
     "output_type": "stream",
     "text": [
      "+----------------------+-------+\n",
      "| Word                 | Count |\n",
      "+----------------------+-------+\n",
      "| #StopPresidentBannon |   551 |\n",
      "| RT                   |   491 |\n",
      "| the                  |   186 |\n",
      "| is                   |   158 |\n",
      "| Bannon               |    95 |\n",
      "| a                    |    94 |\n",
      "| to                   |    90 |\n",
      "| This                 |    80 |\n",
      "| in                   |    79 |\n",
      "| Steve                |    79 |\n",
      "| on                   |    69 |\n",
      "| -                    |    67 |\n",
      "| Trump                |    65 |\n",
      "| No                   |    64 |\n",
      "| for                  |    62 |\n",
      "| of                   |    60 |\n",
      "| it                   |    52 |\n",
      "| #resist              |    50 |\n",
      "| you                  |    50 |\n",
      "| #NoBanNoWall         |    48 |\n",
      "| and                  |    46 |\n",
      "| #trumpleaks          |    46 |\n",
      "| @funder:             |    45 |\n",
      "| Why                  |    44 |\n",
      "| he's                 |    44 |\n",
      "| #AMJoy               |    43 |\n",
      "| this                 |    38 |\n",
      "| A                    |    36 |\n",
      "| tho                  |    35 |\n",
      "| 👏👏                 |    35 |\n",
      "+----------------------+-------+\n"
     ]
    }
   ],
   "source": [
    "# Your code starts here\n",
    "#   Please add comments or text cells in between to explain the general idea of each block of the code.\n",
    "#   Please feel free to add more cells below this cell if necessary\n",
    "import json\n",
    "from collections import Counter\n",
    "from prettytable import PrettyTable\n",
    "statuses = json.loads(open('results.json').read())\n",
    "status_texts = [ status['text'] \n",
    "                 for status in statuses ]\n",
    "words = [ w for t in status_texts \n",
    "              for w in t.split() ]\n",
    "c = Counter(words)\n",
    "\n",
    "pt = PrettyTable(field_names=['Word', 'Count'])\n",
    "[pt.add_row(row) for row in c.most_common()[:30]]\n",
    "pt.align[\"Word\"], pt.align['Count'] = 'l', 'r'\n",
    "print pt"
   ]
  },
  {
   "cell_type": "markdown",
   "metadata": {},
   "source": [
    "** (2) Find the most popular tweets in your collection of tweets**\n",
    "\n",
    "Please plot a table of the top 10 most-retweeted tweets in your collection, i.e., the tweets with the largest number of retweet counts.\n"
   ]
  },
  {
   "cell_type": "code",
   "execution_count": 17,
   "metadata": {
    "collapsed": false
   },
   "outputs": [
    {
     "name": "stdout",
     "output_type": "stream",
     "text": [
      "+---------------+--------------+----------------------------------------------------+\n",
      "| Retweet Count | Screen Name  | Text                                               |\n",
      "+---------------+--------------+----------------------------------------------------+\n",
      "| 2657          | prism_kitten | RT @prism_kitten: #StopPresidentBannon is a        |\n",
      "|               |              | hashtag I can get behind. This man is a threat to  |\n",
      "|               |              | our country and countless lives around the gl…     |\n",
      "| 2656          | prism_kitten | RT @prism_kitten: #StopPresidentBannon is a        |\n",
      "|               |              | hashtag I can get behind. This man is a threat to  |\n",
      "|               |              | our country and countless lives around the gl…     |\n",
      "| 2399          | PTFCinFL     | RT @PTFCinFL: Not today wankers, the good people   |\n",
      "|               |              | won today!#NoBanNoWall #StopPresidentBannon        |\n",
      "|               |              | https://t.co/GSRWcwFLrw                            |\n",
      "| 2059          | Caskettcoffe | RT @Caskettcoffe: This sign tho 👏👏               |\n",
      "|               |              | #StopPresidentBannon #NoBanNoWall                  |\n",
      "|               |              | https://t.co/f7QaZYSJ5F                            |\n",
      "| 2058          | Caskettcoffe | RT @Caskettcoffe: This sign tho 👏👏               |\n",
      "|               |              | #StopPresidentBannon #NoBanNoWall                  |\n",
      "|               |              | https://t.co/f7QaZYSJ5F                            |\n",
      "| 1965          | TheDailyEdge | RT @TheDailyEdge: No one voted for Bannon. A       |\n",
      "|               |              | minority voted for Trump, FFS.                     |\n",
      "|               |              | #StopPresidentBannon https://t.co/Pwn0mAJpJu       |\n",
      "| 1964          | TheDailyEdge | RT @TheDailyEdge: No one voted for Bannon. A       |\n",
      "|               |              | minority voted for Trump, FFS.                     |\n",
      "|               |              | #StopPresidentBannon https://t.co/Pwn0mAJpJu       |\n",
      "| 1959          | TheDailyEdge | RT @TheDailyEdge: No one voted for Bannon. A       |\n",
      "|               |              | minority voted for Trump, FFS.                     |\n",
      "|               |              | #StopPresidentBannon https://t.co/Pwn0mAJpJu       |\n",
      "| 1957          | TheDailyEdge | RT @TheDailyEdge: No one voted for Bannon. A       |\n",
      "|               |              | minority voted for Trump, FFS.                     |\n",
      "|               |              | #StopPresidentBannon https://t.co/Pwn0mAJpJu       |\n",
      "| 1783          | mimbale      | RT @mimbale: If everyone writes                    |\n",
      "|               |              | #StopPresidentBannon it will trend &amp; Trump     |\n",
      "|               |              | will see it.                                       |\n",
      "+---------------+--------------+----------------------------------------------------+\n"
     ]
    }
   ],
   "source": [
    "# Your code starts here\n",
    "#   Please add comments or text cells in between to explain the general idea of each block of the code.\n",
    "#   Please feel free to add more cells below this cell if necessary\n",
    "\n",
    "retweets = [(status['retweet_count'], \n",
    "             status['retweeted_status']['user']['screen_name'],\n",
    "             status['text']) \n",
    "            for status in statuses \n",
    "                if status.has_key('retweeted_status')]\n",
    "\n",
    "pt = PrettyTable(field_names=['Retweet Count', 'Screen Name', 'Text'])\n",
    "[ pt.add_row(row) for row in sorted(set(retweets), reverse=True)[:10] ]\n",
    "pt.max_width['Text'] = 50\n",
    "pt.align= 'l'\n",
    "print pt\n"
   ]
  },
  {
   "cell_type": "markdown",
   "metadata": {},
   "source": [
    "**(3) Find the most popular Tweet Entities in your collection of tweets**\n",
    "\n",
    "Please plot the top 10 most-frequent hashtags and top 10 most-mentioned users in your collection of tweets."
   ]
  },
  {
   "cell_type": "code",
   "execution_count": 56,
   "metadata": {
    "collapsed": false
   },
   "outputs": [
    {
     "name": "stdout",
     "output_type": "stream",
     "text": [
      "+---------------------+-------+\n",
      "| Hashtag             | Count |\n",
      "+---------------------+-------+\n",
      "| StopPresidentBannon |   569 |\n",
      "| NoBanNoWall         |    51 |\n",
      "| resist              |    50 |\n",
      "| trumpleaks          |    46 |\n",
      "| MuslimBan           |    41 |\n",
      "| stoppresidentbannon |    19 |\n",
      "| AMJoy               |    17 |\n",
      "| TheResistance       |    13 |\n",
      "| MAGA                |    11 |\n",
      "| SundayMorning       |    10 |\n",
      "+---------------------+-------+\n",
      "+----------------------+-------+\n",
      "|       Mention        | Count |\n",
      "+----------------------+-------+\n",
      "|    Scott Dworkin     |    45 |\n",
      "|   Donald J. Trump    |    35 |\n",
      "|          .           |    35 |\n",
      "| Impeach Donald Trump |    31 |\n",
      "|  AM Joy w/Joy Reid   |    28 |\n",
      "|  People For Bernie   |    15 |\n",
      "|    The Daily Edge    |    14 |\n",
      "|       harleyb        |    14 |\n",
      "|         TIME         |    12 |\n",
      "|    Beau Willimon     |    12 |\n",
      "+----------------------+-------+\n"
     ]
    }
   ],
   "source": [
    "# Your code starts here\n",
    "#   Please add comments or text cells in between to explain the general idea of each block of the code.\n",
    "#   Please feel free to add more cells below this cell if necessary\n",
    "%matplotlib inline\n",
    "import matplotlib.pyplot as plt\n",
    "hashtags = [ hashtag['text'] \n",
    "             for status in statuses\n",
    "                 for hashtag in status['entities']['hashtags'] ]\n",
    "mentions = [ mention['name'] \n",
    "             for status in statuses\n",
    "                 for mention in status['entities']['user_mentions'] ]\n",
    "\n",
    "c = Counter(hashtags)\n",
    "\n",
    "pt = PrettyTable(field_names=['Hashtag', 'Count'])\n",
    "[pt.add_row(row) for row in c.most_common()[:10]]\n",
    "pt.align['Hashtag'], pt.align['Count'] = 'l', 'r'\n",
    "print pt\n",
    "\n",
    "c = Counter(mentions)\n",
    "\n",
    "pt = PrettyTable(field_names=['Mention', 'Count'])\n",
    "[pt.add_row(row) for row in c.most_common()[:10]]\n",
    "pt.align['Hashtag'], pt.align['Count'] = 'l', 'r'\n",
    "print pt"
   ]
  },
  {
   "cell_type": "markdown",
   "metadata": {},
   "source": [
    "Plot a histogram of the number of user mentions in the list using the following bins."
   ]
  },
  {
   "cell_type": "code",
   "execution_count": 61,
   "metadata": {
    "collapsed": false
   },
   "outputs": [
    {
     "data": {
      "image/png": "[encoded data removed]",
      "text/plain": [
       "<matplotlib.figure.Figure at 0x8a28080>"
      ]
     },
     "metadata": {},
     "output_type": "display_data"
    }
   ],
   "source": [
    "bins=[0, 10, 20, 30, 40, 50, 100]\n",
    "\n",
    "# Your code starts here\n",
    "#   Please add comments or text cells in between to explain the general idea of each block of the code.\n",
    "#   Please feel free to add more cells below this cell if necessary\n",
    "counts = [count for _, count in Counter(mentions).items()]\n",
    "plt.hist(counts,bins)\n",
    "plt.show()"
   ]
  },
  {
   "cell_type": "markdown",
   "metadata": {},
   "source": [
    "\n",
    " ** (4) Getting \"All\" friends and \"All\" followers of a popular user in the tweets**"
   ]
  },
  {
   "cell_type": "markdown",
   "metadata": {},
   "source": [
    "* choose a popular twitter user who has many followers in your collection of tweets.\n",
    "* Get the list of all friends and all followers of the twitter user.\n",
    "* Plot 20 out of the followers, plot their ID numbers and screen names in a table.\n",
    "* Plot 20 out of the friends (if the user has more than 20 friends), plot their ID numbers and screen names in a table."
   ]
  },
  {
   "cell_type": "code",
   "execution_count": 149,
   "metadata": {
    "collapsed": false
   },
   "outputs": [
    {
     "name": "stdout",
     "output_type": "stream",
     "text": [
      "Friends\n",
      "+--------------------+---------------------+\n",
      "| Id                 |                Name |\n",
      "+--------------------+---------------------+\n",
      "| 15978412           |    Spencer Ackerman |\n",
      "| 250885346          |      Benari Poulten |\n",
      "| 28406270           |     Kumail Nanjiani |\n",
      "| 19394186           |     Charlie Brooker |\n",
      "| 47461824           |  J. Elvis Weinstein |\n",
      "| 90661198           | Robots With Rayguns |\n",
      "| 17301707           |    The Ring of Fire |\n",
      "| 820585             |           Baratunde |\n",
      "| 45715838           |         Peter Jukes |\n",
      "| 823565852922576897 |   March for Science |\n",
      "| 824264707641057281 |             AltUSDA |\n",
      "| 824190260338954240 |              altEPA |\n",
      "| 824315778866417664 |     Alternative HHS |\n",
      "| 824320219866923018 |          Rogue NASA |\n",
      "| 824326864407822336 |              AltFDA |\n",
      "| 3330316336         |       Mandy Chapman |\n",
      "| 824116562768621568 |             AltNASA |\n",
      "| 163297163          |        Constance Wu |\n",
      "| 346720096          |        Bill Shapiro |\n",
      "| 2855864495         |      Charles Wieand |\n",
      "+--------------------+---------------------+\n",
      "Followers\n",
      "+--------------------+----------------------+\n",
      "| Id                 |                 Name |\n",
      "+--------------------+----------------------+\n",
      "| 27063218           |          JLesperance |\n",
      "| 14179822           |          JerryThomas |\n",
      "| 32767643           |     Ylianova Modesto |\n",
      "| 1604640828         |    ✈️ John J Manring |\n",
      "| 825705801788567553 |      Terrific Father |\n",
      "| 51327503           | Nap Queen REM Island |\n",
      "| 30372536           |             Kyrielle |\n",
      "| 16066049           |              Michael |\n",
      "| 18457843           |        Lex RN 🌷🇺🇸 |\n",
      "| 823635542478913536 |   Florida Resistance |\n",
      "| 825696953178718208 |         UntwistingIt |\n",
      "| 83289018           |             Djinnaat |\n",
      "| 11228322           |    Jolene Sugarbaker |\n",
      "| 824287126560849920 |       Orange J. Dump |\n",
      "| 216921203          |           L A Davies |\n",
      "| 1553802014         |       The Good Fight |\n",
      "| 289118612          |          Tomthunkit™ |\n",
      "| 822252937548271617 |      Cortney Stetson |\n",
      "| 3025610067         |                 JPir |\n",
      "| 825490245651083265 |       PussyGrabsBack |\n",
      "+--------------------+----------------------+\n"
     ]
    }
   ],
   "source": [
    "# Your code starts here\n",
    "#   Please add comments or text cells in between to explain the general idea of each block of the code.\n",
    "#   Please feel free to add more cells below this cell if necessary\n",
    "username = \"prism_kitten\"\n",
    "query = twitter_api.friends.ids(screen_name = username)\n",
    "queries = query['ids'][:20]\n",
    "users = [twitter_api.users.lookup(user_id = ids) for ids in queries]\n",
    "friends=[(sub[0]['id'],sub[0]['name']) for sub in users]\n",
    "print('Friends')\n",
    "pt = PrettyTable(field_names=['Id', 'Name'])\n",
    "[pt.add_row(row) for row in friends]\n",
    "pt.align['Id'], pt.align['Name'] = 'l', 'r'\n",
    "print pt\n",
    "query2 = twitter_api.followers.ids(screen_name = username)\n",
    "queries2 = query2['ids'][:20]\n",
    "users2 = [twitter_api.users.lookup(user_id = ids) for ids in queries2]\n",
    "followers=[(sub[0]['id'],sub[0]['name']) for sub in users2]\n",
    "print('Followers')\n",
    "pt = PrettyTable(field_names=['Id', 'Name'])\n",
    "[pt.add_row(row) for row in followers]\n",
    "pt.align['Id'], pt.align['Name'] = 'l', 'r'\n",
    "print pt"
   ]
  },
  {
   "cell_type": "markdown",
   "metadata": {},
   "source": [
    "# The Solution: implement a data science solution to the problem you are trying to solve."
   ]
  },
  {
   "cell_type": "markdown",
   "metadata": {},
   "source": [
    "Briefly describe the idea of your solution to the problem in the following cell:"
   ]
  },
  {
   "cell_type": "code",
   "execution_count": null,
   "metadata": {
    "collapsed": true
   },
   "outputs": [],
   "source": [
    "\n",
    "\n",
    "\n",
    "\n",
    "\n",
    "\n",
    "\n",
    "\n",
    "\n",
    "\n"
   ]
  },
  {
   "cell_type": "markdown",
   "metadata": {},
   "source": [
    "Write codes to implement the solution in python:"
   ]
  },
  {
   "cell_type": "code",
   "execution_count": null,
   "metadata": {
    "collapsed": false
   },
   "outputs": [],
   "source": [
    "# Your code starts here\n",
    "#   Please add comments or text cells in between to explain the general idea of each block of the code.\n",
    "#   Please feel free to add more cells below this cell if necessary\n",
    "\n",
    "\n",
    "\n",
    "\n",
    "\n",
    "\n",
    "\n",
    "\n",
    "\n",
    "\n",
    "\n",
    "\n",
    "\n"
   ]
  },
  {
   "cell_type": "markdown",
   "metadata": {},
   "source": [
    "# Results: summarize and visualize the results discovered from the analysis\n",
    "\n",
    "Please use figures, tables, or videos to communicate the results with the audience.\n"
   ]
  },
  {
   "cell_type": "code",
   "execution_count": null,
   "metadata": {
    "collapsed": true
   },
   "outputs": [],
   "source": [
    "# Your code starts here\n",
    "#   Please add comments or text cells in between to explain the general idea of each block of the code.\n",
    "#   Please feel free to add more cells below this cell if necessary\n",
    "\n",
    "\n",
    "\n",
    "\n",
    "\n",
    "\n"
   ]
  },
  {
   "cell_type": "markdown",
   "metadata": {},
   "source": [
    "*-----------------\n",
    "# Done\n",
    "\n",
    "All set! \n",
    "\n",
    "** What do you need to submit?**\n",
    "\n",
    "* **Notebook File**: Save this Jupyter notebook, and find the notebook file in your folder (for example, \"filename.ipynb\"). This is the file you need to submit. Please make sure all the plotted tables and figures are in the notebook. If you used \"jupyter notebook --pylab=inline\" to open the notebook, all the figures and tables should have shown up in the notebook.\n",
    "\n",
    "* **PPT Slides**: please prepare PPT slides (for 10 minutes' talk) to present about the case study . Each team present their case studies in class for 10 minutes.\n",
    "\n",
    "Please compress all the files in a zipped file.\n",
    "\n",
    "\n",
    "** How to submit: **\n",
    "\n",
    "        Please submit through Canvas, in the Assignment \"Case Study 1\".\n",
    "        \n",
    "** Note: Each team only needs to submit one submission in Canvas **"
   ]
  },
  {
   "cell_type": "markdown",
   "metadata": {},
   "source": [
    "\n",
    "# Peer-Review Grading Template:\n",
    "\n",
    "** Total Points: (100 points) ** Please don't worry about the absolute scores, we will rescale the final grading according to the performance of all teams in the class.\n",
    "\n",
    "Please add an \"**X**\" mark in front of your rating: \n",
    "\n",
    "For example:\n",
    "\n",
    "*2: bad*\n",
    "          \n",
    "**X** *3: good*\n",
    "    \n",
    "*4: perfect*\n",
    "\n",
    "\n",
    "    ---------------------------------\n",
    "    The Problem: \n",
    "    ---------------------------------\n",
    "    \n",
    "    1. (5 points) how well did the team describe the problem they are trying to solve using twitter data? \n",
    "       0: not clear\n",
    "       1: I can barely understand the problem\n",
    "       2: okay, can be improved\n",
    "       3: good, but can be improved\n",
    "       4: very good\n",
    "       5: crystal clear\n",
    "    \n",
    "    2. (10 points) do you think the problem is important or has a potential impact?\n",
    "        0: not important at all\n",
    "        2: not sure if it is important\n",
    "        4: seems important, but not clear\n",
    "        6: interesting problem\n",
    "        8: an important problem, which I want to know the answer myself\n",
    "       10: very important, I would be happy invest money on a project like this.\n",
    "    \n",
    "    ----------------------------------\n",
    "    Data Collection:\n",
    "    ----------------------------------\n",
    "    \n",
    "    3. (10 points) Do you think the data collected are relevant and sufficient for solving the above problem? \n",
    "       0: not clear\n",
    "       2: I can barely understand what data they are trying to collect\n",
    "       4: I can barely understand why the data is relevant to the problem\n",
    "       6: the data are relevant to the problem, but better data can be collected\n",
    "       8: the data collected are relevant and at a proper scale (> 300 tweets)\n",
    "      10: the data are properly collected and they are sufficient\n",
    "\n",
    "    -----------------------------------\n",
    "    Data Exploration:\n",
    "    -----------------------------------\n",
    "    4. How well did the team solve the following task:\n",
    "    (1) Word Count (5 points):\n",
    "       0: missing answer\n",
    "       1: okay, but with major problems\n",
    "       3: good, but with minor problems\n",
    "       5: perfect\n",
    "    \n",
    "    (2) Find the most popular tweets in your collection of tweets: (5 points)\n",
    "       0: missing answer\n",
    "       1: okay, but with major problems\n",
    "       3: good, but with minor problems\n",
    "       5: perfect\n",
    "    \n",
    "    (3) Find popular twitter entities  (5 points)\n",
    "       0: missing answer\n",
    "       1: okay, but with major problems\n",
    "       3: good, but with minor problems\n",
    "       5: perfect\n",
    "\n",
    "    (4) Find user's followers and friends (5 points)\n",
    "       0: missing answer\n",
    "       1: okay, but with major problems\n",
    "       3: good, but with minor problems\n",
    "       5: perfect\n",
    "\n",
    "    -----------------------------------\n",
    "    The Solution\n",
    "    -----------------------------------\n",
    "    5.  how well did the team describe the solution they used to solve the problem? \n",
    "       0: not clear\n",
    "       2: I can barely understand\n",
    "       4: okay, can be improved\n",
    "       6: good, but can be improved\n",
    "       8: very good\n",
    "       10: crystal clear\n",
    "       \n",
    "    6. how well is the solution in solving the problem? \n",
    "       0: not relevant\n",
    "       1: barely relevant to the problem\n",
    "       2: okay solution, but there is an easier solution.\n",
    "       3: good, but can be improved\n",
    "       4: very good, but solution is simple/old\n",
    "       5: innovative and technically sound\n",
    "       \n",
    "    7. how well did the team implement the solution in python? \n",
    "       0: the code is not relevant to the solution proposed\n",
    "       2: the code is barely understandable, but not relevant\n",
    "       4: okay, the code is clear but incorrect\n",
    "       6: good, the code is correct, but with major errors\n",
    "       8: very good, the code is correct, but with minor errors\n",
    "      10: perfect \n",
    "   \n",
    "    -----------------------------------\n",
    "    The Results\n",
    "    -----------------------------------\n",
    "     8.  How well did the team present the results they found in the data? \n",
    "       0: not clear\n",
    "       2: I can barely understand\n",
    "       4: okay, can be improved\n",
    "       6: good, but can be improved\n",
    "       8: very good\n",
    "      10: crystal clear\n",
    "       \n",
    "     9.  How do you think the results they found in the data? \n",
    "       0: not clear\n",
    "       1: likely to be wrong\n",
    "       2: okay, maybe wrong\n",
    "       3: good, but can be improved\n",
    "       4: make sense, but not interesting\n",
    "       5: make sense and very interesting\n",
    "     \n",
    "    -----------------------------------\n",
    "    The Presentation\n",
    "    -----------------------------------\n",
    "    10. How all the different parts (data, problem, solution, result) fit together as a coherent story?  \n",
    "       0: they are irrelevant\n",
    "       1: I can barely understand how they are related to each other\n",
    "       2: okay, the problem is good, but the solution doesn't match well, or the problem is not solvable.\n",
    "       3: good, but the results don't make much sense in the context\n",
    "       4: very good fit, but not exciting (the storyline can be improved/polished)\n",
    "       5: a perfect story\n",
    "      \n",
    "    11. Did the presenter make good use of the 10 minutes for presentation?  \n",
    "       0: the team didn't present\n",
    "       1: bad, barely finished a small part of the talk\n",
    "       2: okay, barely finished most parts of the talk.\n",
    "       3: good, finished all parts of the talk, but some part is rushed\n",
    "       4: very good, but the allocation of time on different parts can be improved.\n",
    "       5: perfect timing and good use of time      \n",
    "\n",
    "    12. How well do you think of the presentation (overall quality)?  \n",
    "       0: the team didn't present\n",
    "       1: bad\n",
    "       2: okay\n",
    "       3: good\n",
    "       4: very good\n",
    "       5: perfect\n",
    "\n",
    "\n",
    "    -----------------------------------\n",
    "    Overall: \n",
    "    -----------------------------------\n",
    "    13. How many points out of the 100 do you give to this project in total?  Please don't worry about the absolute scores, we will rescale the final grading according to the performance of all teams in the class.\n",
    "    Total score:\n",
    "    \n",
    "    14. What are the strengths of this project? Briefly, list up to 3 strengths.\n",
    "       1: \n",
    "       2:\n",
    "       3:\n",
    "    \n",
    "    15. What are the weaknesses of this project? Briefly, list up to 3 weaknesses.\n",
    "       1:\n",
    "       2:\n",
    "       3:\n",
    "    \n",
    "    16. Detailed comments and suggestions. What suggestions do you have for this project to improve its quality further.\n",
    "    \n",
    "    \n",
    "    \n",
    "\n",
    "    ---------------------------------\n",
    "    Your Vote: \n",
    "    ---------------------------------\n",
    "    1. [Overall Quality] Between the two submissions that you are reviewing, which team would you vote for a better score?  \n",
    "       -1: I vote the other team is better than this team\n",
    "        0: the same\n",
    "        1: I vote this team is better than the other team \n",
    "        \n",
    "    2. [Presentation] Among all the teams in the presentation, which team do you think deserves the best presentation award for this case study?  \n",
    "        1: Team 1\n",
    "        2: Team 2\n",
    "        3: Team 3\n",
    "        4: Team 4\n",
    "        5: Team 5\n",
    "        6: Team 6\n",
    "        7: Team 7\n",
    "        8: Team 8\n",
    "        9: Team 9\n",
    "       10: Team 10\n",
    "\n"
   ]
  },
  {
   "cell_type": "code",
   "execution_count": null,
   "metadata": {
    "collapsed": false
   },
   "outputs": [],
   "source": []
  }
 ],
 "metadata": {
  "kernelspec": {
   "display_name": "Python 2",
   "language": "python",
   "name": "python2"
  },
  "language_info": {
   "codemirror_mode": {
    "name": "ipython",
    "version": 2
   },
   "file_extension": ".py",
   "mimetype": "text/x-python",
   "name": "python",
   "nbconvert_exporter": "python",
   "pygments_lexer": "ipython2",
   "version": "2.7.13"
  }
 },
 "nbformat": 4,
 "nbformat_minor": 0
}
